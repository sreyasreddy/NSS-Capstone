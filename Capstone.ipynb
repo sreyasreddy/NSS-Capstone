{
 "cells": [
  {
   "cell_type": "code",
   "execution_count": 4,
   "metadata": {},
   "outputs": [],
   "source": [
    "from shapely.geometry import Point\n",
    "import pandas as pd\n",
    "import geopandas as gpd\n",
    "import matplotlib.pyplot as plt\n",
    "import folium\n",
    "from folium.plugins import MarkerCluster\n",
    "from folium.plugins import FastMarkerCluster"
   ]
  },
  {
   "cell_type": "code",
   "execution_count": 5,
   "metadata": {},
   "outputs": [
    {
     "name": "stdout",
     "output_type": "stream",
     "text": [
      "epsg:4326\n"
     ]
    },
    {
     "data": {
      "text/html": [
       "<div>\n",
       "<style scoped>\n",
       "    .dataframe tbody tr th:only-of-type {\n",
       "        vertical-align: middle;\n",
       "    }\n",
       "\n",
       "    .dataframe tbody tr th {\n",
       "        vertical-align: top;\n",
       "    }\n",
       "\n",
       "    .dataframe thead th {\n",
       "        text-align: right;\n",
       "    }\n",
       "</style>\n",
       "<table border=\"1\" class=\"dataframe\">\n",
       "  <thead>\n",
       "    <tr style=\"text-align: right;\">\n",
       "      <th></th>\n",
       "      <th>geometry</th>\n",
       "    </tr>\n",
       "  </thead>\n",
       "  <tbody>\n",
       "  </tbody>\n",
       "</table>\n",
       "</div>"
      ],
      "text/plain": [
       "Empty GeoDataFrame\n",
       "Columns: [geometry]\n",
       "Index: []"
      ]
     },
     "execution_count": 5,
     "metadata": {},
     "output_type": "execute_result"
    }
   ],
   "source": [
    "usa = gpd.read_file('data/map.geojson')\n",
    "print(usa.crs)\n",
    "usa.head()"
   ]
  },
  {
   "cell_type": "code",
   "execution_count": 6,
   "metadata": {},
   "outputs": [
    {
     "name": "stdout",
     "output_type": "stream",
     "text": [
      "(32, 7)\n"
     ]
    },
    {
     "data": {
      "text/html": [
       "<div>\n",
       "<style scoped>\n",
       "    .dataframe tbody tr th:only-of-type {\n",
       "        vertical-align: middle;\n",
       "    }\n",
       "\n",
       "    .dataframe tbody tr th {\n",
       "        vertical-align: top;\n",
       "    }\n",
       "\n",
       "    .dataframe thead th {\n",
       "        text-align: right;\n",
       "    }\n",
       "</style>\n",
       "<table border=\"1\" class=\"dataframe\">\n",
       "  <thead>\n",
       "    <tr style=\"text-align: right;\">\n",
       "      <th></th>\n",
       "      <th>Team</th>\n",
       "      <th>Conference</th>\n",
       "      <th>latitude</th>\n",
       "      <th>longitude</th>\n",
       "      <th>zip</th>\n",
       "      <th>pic</th>\n",
       "      <th>Unnamed: 6</th>\n",
       "    </tr>\n",
       "  </thead>\n",
       "  <tbody>\n",
       "    <tr>\n",
       "      <th>0</th>\n",
       "      <td>Titans</td>\n",
       "      <td>AFC</td>\n",
       "      <td>36.166461</td>\n",
       "      <td>-86.771289</td>\n",
       "      <td>37213</td>\n",
       "      <td>y</td>\n",
       "      <td>g</td>\n",
       "    </tr>\n",
       "    <tr>\n",
       "      <th>1</th>\n",
       "      <td>Giants</td>\n",
       "      <td>NFC</td>\n",
       "      <td>40.812194</td>\n",
       "      <td>-74.076983</td>\n",
       "      <td>10021</td>\n",
       "      <td>y</td>\n",
       "      <td>NaN</td>\n",
       "    </tr>\n",
       "    <tr>\n",
       "      <th>2</th>\n",
       "      <td>Steelers</td>\n",
       "      <td>AFC</td>\n",
       "      <td>40.446786</td>\n",
       "      <td>-80.015761</td>\n",
       "      <td>15202</td>\n",
       "      <td>y</td>\n",
       "      <td>NaN</td>\n",
       "    </tr>\n",
       "    <tr>\n",
       "      <th>3</th>\n",
       "      <td>Panthers</td>\n",
       "      <td>NFC</td>\n",
       "      <td>35.225808</td>\n",
       "      <td>-80.852861</td>\n",
       "      <td>28202</td>\n",
       "      <td>y</td>\n",
       "      <td>g</td>\n",
       "    </tr>\n",
       "    <tr>\n",
       "      <th>4</th>\n",
       "      <td>Ravens</td>\n",
       "      <td>AFC</td>\n",
       "      <td>39.277969</td>\n",
       "      <td>-76.622767</td>\n",
       "      <td>21203</td>\n",
       "      <td>y</td>\n",
       "      <td>g</td>\n",
       "    </tr>\n",
       "  </tbody>\n",
       "</table>\n",
       "</div>"
      ],
      "text/plain": [
       "       Team Conference   latitude  longitude    zip pic Unnamed: 6\n",
       "0    Titans        AFC  36.166461 -86.771289  37213   y          g\n",
       "1    Giants        NFC  40.812194 -74.076983  10021   y        NaN\n",
       "2  Steelers        AFC  40.446786 -80.015761  15202   y        NaN\n",
       "3  Panthers        NFC  35.225808 -80.852861  28202   y          g\n",
       "4    Ravens        AFC  39.277969 -76.622767  21203   y          g"
      ]
     },
     "execution_count": 6,
     "metadata": {},
     "output_type": "execute_result"
    }
   ],
   "source": [
    "stadiums = pd.read_csv('data/CloudProject-master/NFL_Stadium_Latitude_and_Longtitude.csv')\n",
    "print(stadiums.shape)\n",
    "stadiums.head()"
   ]
  },
  {
   "cell_type": "code",
   "execution_count": 36,
   "metadata": {},
   "outputs": [],
   "source": [
    "stadiums = stadiums.loc[stadiums['Team'].isin(['Titans', 'Texans', 'Raiders', 'Chargers',\n",
    "             'Rams'])]"
   ]
  },
  {
   "cell_type": "code",
   "execution_count": 37,
   "metadata": {},
   "outputs": [
    {
     "name": "stderr",
     "output_type": "stream",
     "text": [
      "<ipython-input-37-b1176d38fc35>:1: SettingWithCopyWarning: \n",
      "A value is trying to be set on a copy of a slice from a DataFrame.\n",
      "Try using .loc[row_indexer,col_indexer] = value instead\n",
      "\n",
      "See the caveats in the documentation: https://pandas.pydata.org/pandas-docs/stable/user_guide/indexing.html#returning-a-view-versus-a-copy\n",
      "  stadiums['geometry'] = stadiums.apply(lambda x:  Point((float(x.longitude),\n"
     ]
    },
    {
     "data": {
      "text/html": [
       "<div>\n",
       "<style scoped>\n",
       "    .dataframe tbody tr th:only-of-type {\n",
       "        vertical-align: middle;\n",
       "    }\n",
       "\n",
       "    .dataframe tbody tr th {\n",
       "        vertical-align: top;\n",
       "    }\n",
       "\n",
       "    .dataframe thead th {\n",
       "        text-align: right;\n",
       "    }\n",
       "</style>\n",
       "<table border=\"1\" class=\"dataframe\">\n",
       "  <thead>\n",
       "    <tr style=\"text-align: right;\">\n",
       "      <th></th>\n",
       "      <th>Team</th>\n",
       "      <th>Conference</th>\n",
       "      <th>latitude</th>\n",
       "      <th>longitude</th>\n",
       "      <th>zip</th>\n",
       "      <th>pic</th>\n",
       "      <th>Unnamed: 6</th>\n",
       "      <th>geometry</th>\n",
       "    </tr>\n",
       "  </thead>\n",
       "  <tbody>\n",
       "    <tr>\n",
       "      <th>0</th>\n",
       "      <td>Titans</td>\n",
       "      <td>AFC</td>\n",
       "      <td>36.166461</td>\n",
       "      <td>-86.771289</td>\n",
       "      <td>37213</td>\n",
       "      <td>y</td>\n",
       "      <td>g</td>\n",
       "      <td>POINT (-86.771289 36.166461)</td>\n",
       "    </tr>\n",
       "    <tr>\n",
       "      <th>19</th>\n",
       "      <td>Chargers</td>\n",
       "      <td>AFC</td>\n",
       "      <td>32.783117</td>\n",
       "      <td>-117.119525</td>\n",
       "      <td>92103</td>\n",
       "      <td>y</td>\n",
       "      <td>NaN</td>\n",
       "      <td>POINT (-117.119525 32.783117)</td>\n",
       "    </tr>\n",
       "    <tr>\n",
       "      <th>21</th>\n",
       "      <td>Texans</td>\n",
       "      <td>AFC</td>\n",
       "      <td>29.684781</td>\n",
       "      <td>-95.410956</td>\n",
       "      <td>77002</td>\n",
       "      <td>y</td>\n",
       "      <td>NaN</td>\n",
       "      <td>POINT (-95.410956 29.684781)</td>\n",
       "    </tr>\n",
       "    <tr>\n",
       "      <th>26</th>\n",
       "      <td>Raiders</td>\n",
       "      <td>AFC</td>\n",
       "      <td>37.751411</td>\n",
       "      <td>-122.200889</td>\n",
       "      <td>94502</td>\n",
       "      <td>y</td>\n",
       "      <td>g</td>\n",
       "      <td>POINT (-122.200889 37.751411)</td>\n",
       "    </tr>\n",
       "    <tr>\n",
       "      <th>28</th>\n",
       "      <td>Rams</td>\n",
       "      <td>NFC</td>\n",
       "      <td>38.632975</td>\n",
       "      <td>-90.188547</td>\n",
       "      <td>63101</td>\n",
       "      <td>y</td>\n",
       "      <td>NaN</td>\n",
       "      <td>POINT (-90.188547 38.632975)</td>\n",
       "    </tr>\n",
       "  </tbody>\n",
       "</table>\n",
       "</div>"
      ],
      "text/plain": [
       "        Team Conference   latitude   longitude    zip pic Unnamed: 6  \\\n",
       "0     Titans        AFC  36.166461  -86.771289  37213   y          g   \n",
       "19  Chargers        AFC  32.783117 -117.119525  92103   y        NaN   \n",
       "21    Texans        AFC  29.684781  -95.410956  77002   y        NaN   \n",
       "26   Raiders        AFC  37.751411 -122.200889  94502   y          g   \n",
       "28      Rams        NFC  38.632975  -90.188547  63101   y        NaN   \n",
       "\n",
       "                         geometry  \n",
       "0    POINT (-86.771289 36.166461)  \n",
       "19  POINT (-117.119525 32.783117)  \n",
       "21   POINT (-95.410956 29.684781)  \n",
       "26  POINT (-122.200889 37.751411)  \n",
       "28   POINT (-90.188547 38.632975)  "
      ]
     },
     "execution_count": 37,
     "metadata": {},
     "output_type": "execute_result"
    }
   ],
   "source": [
    "stadiums['geometry'] = stadiums.apply(lambda x:  Point((float(x.longitude),\n",
    "                                                       float(x.latitude))),\n",
    "                                     axis=1)\n",
    "stadiums.head()"
   ]
  },
  {
   "cell_type": "code",
   "execution_count": 38,
   "metadata": {},
   "outputs": [
    {
     "data": {
      "text/plain": [
       "<Geographic 2D CRS: EPSG:4326>\n",
       "Name: WGS 84\n",
       "Axis Info [ellipsoidal]:\n",
       "- Lat[north]: Geodetic latitude (degree)\n",
       "- Lon[east]: Geodetic longitude (degree)\n",
       "Area of Use:\n",
       "- name: World\n",
       "- bounds: (-180.0, -90.0, 180.0, 90.0)\n",
       "Datum: World Geodetic System 1984\n",
       "- Ellipsoid: WGS 84\n",
       "- Prime Meridian: Greenwich"
      ]
     },
     "execution_count": 38,
     "metadata": {},
     "output_type": "execute_result"
    }
   ],
   "source": [
    "usa.crs"
   ]
  },
  {
   "cell_type": "code",
   "execution_count": 39,
   "metadata": {},
   "outputs": [],
   "source": [
    "stadiums_geo = gpd.GeoDataFrame(stadiums,\n",
    "                               crs = usa.crs,\n",
    "                               geometry = stadiums['geometry'])"
   ]
  },
  {
   "cell_type": "code",
   "execution_count": 40,
   "metadata": {},
   "outputs": [
    {
     "data": {
      "text/plain": [
       "geopandas.geodataframe.GeoDataFrame"
      ]
     },
     "execution_count": 40,
     "metadata": {},
     "output_type": "execute_result"
    }
   ],
   "source": [
    "type(stadiums_geo)"
   ]
  },
  {
   "cell_type": "code",
   "execution_count": 41,
   "metadata": {},
   "outputs": [
    {
     "data": {
      "image/png": "[encoded data removed]",
      "text/plain": [
       "<Figure size 576x720 with 1 Axes>"
      ]
     },
     "metadata": {
      "needs_background": "light"
     },
     "output_type": "display_data"
    }
   ],
   "source": [
    "ax = stadiums_geo.plot(figsize = (8, 10), color = 'lightgreen')\n",
    "plt.show()"
   ]
  },
  {
   "cell_type": "code",
   "execution_count": 42,
   "metadata": {},
   "outputs": [
    {
     "name": "stderr",
     "output_type": "stream",
     "text": [
      "<ipython-input-42-e8d415192319>:1: UserWarning: Geometry is in a geographic CRS. Results from 'centroid' are likely incorrect. Use 'GeoSeries.to_crs()' to re-project geometries to a projected CRS before this operation.\n",
      "\n",
      "  stadiums_geo.geometry.centroid\n"
     ]
    },
    {
     "data": {
      "text/plain": [
       "0      POINT (-86.77129 36.16646)\n",
       "19    POINT (-117.11952 32.78312)\n",
       "21     POINT (-95.41096 29.68478)\n",
       "26    POINT (-122.20089 37.75141)\n",
       "28     POINT (-90.18855 38.63298)\n",
       "dtype: geometry"
      ]
     },
     "execution_count": 42,
     "metadata": {},
     "output_type": "execute_result"
    }
   ],
   "source": [
    "stadiums_geo.geometry.centroid"
   ]
  },
  {
   "cell_type": "code",
   "execution_count": 44,
   "metadata": {},
   "outputs": [
    {
     "name": "stdout",
     "output_type": "stream",
     "text": [
      "POINT (-95.410956 29.684781)\n"
     ]
    },
    {
     "name": "stderr",
     "output_type": "stream",
     "text": [
      "<ipython-input-44-fcc4293093d6>:1: UserWarning: Geometry is in a geographic CRS. Results from 'centroid' are likely incorrect. Use 'GeoSeries.to_crs()' to re-project geometries to a projected CRS before this operation.\n",
      "\n",
      "  center = stadiums_geo.geometry.centroid[21]\n"
     ]
    }
   ],
   "source": [
    "center = stadiums_geo.geometry.centroid[21]\n",
    "print(center)"
   ]
  },
  {
   "cell_type": "code",
   "execution_count": 45,
   "metadata": {},
   "outputs": [
    {
     "name": "stdout",
     "output_type": "stream",
     "text": [
      "[29.684781, -95.410956]\n"
     ]
    }
   ],
   "source": [
    "area_center = [center.y, center.x]\n",
    "\n",
    "print(area_center)"
   ]
  },
  {
   "cell_type": "code",
   "execution_count": 46,
   "metadata": {},
   "outputs": [
    {
     "data": {
      "text/html": [
       "<div style=\"width:100%;\"><div style=\"position:relative;width:100%;height:0;padding-bottom:60%;\"><span style=\"color:#565656\">Make this Notebook Trusted to load map: File -> Trust Notebook</span><iframe src=\"about:blank\" style=\"position:absolute;width:100%;height:100%;left:0;top:0;border:none !important;\" data-html=PCFET0NUWVBFIGh0bWw+CjxoZWFkPiAgICAKICAgIDxtZXRhIGh0dHAtZXF1aXY9ImNvbnRlbnQtdHlwZSIgY29udGVudD0idGV4dC9odG1sOyBjaGFyc2V0PVVURi04IiAvPgogICAgCiAgICAgICAgPHNjcmlwdD4KICAgICAgICAgICAgTF9OT19UT1VDSCA9IGZhbHNlOwogICAgICAgICAgICBMX0RJU0FCTEVfM0QgPSBmYWxzZTsKICAgICAgICA8L3NjcmlwdD4KICAgIAogICAgPHNjcmlwdCBzcmM9Imh0dHBzOi8vY2RuLmpzZGVsaXZyLm5ldC9ucG0vbGVhZmxldEAxLjYuMC9kaXN0L2xlYWZsZXQuanMiPjwvc2NyaXB0PgogICAgPHNjcmlwdCBzcmM9Imh0dHBzOi8vY29kZS5qcXVlcnkuY29tL2pxdWVyeS0xLjEyLjQubWluLmpzIj48L3NjcmlwdD4KICAgIDxzY3JpcHQgc3JjPSJodHRwczovL21heGNkbi5ib290c3RyYXBjZG4uY29tL2Jvb3RzdHJhcC8zLjIuMC9qcy9ib290c3RyYXAubWluLmpzIj48L3NjcmlwdD4KICAgIDxzY3JpcHQgc3JjPSJodHRwczovL2NkbmpzLmNsb3VkZmxhcmUuY29tL2FqYXgvbGlicy9MZWFmbGV0LmF3ZXNvbWUtbWFya2Vycy8yLjAuMi9sZWFmbGV0LmF3ZXNvbWUtbWFya2Vycy5qcyI+PC9zY3JpcHQ+CiAgICA8bGluayByZWw9InN0eWxlc2hlZXQiIGhyZWY9Imh0dHBzOi8vY2RuLmpzZGVsaXZyLm5ldC9ucG0vbGVhZmxldEAxLjYuMC9kaXN0L2xlYWZsZXQuY3NzIi8+CiAgICA8bGluayByZWw9InN0eWxlc2hlZXQiIGhyZWY9Imh0dHBzOi8vbWF4Y2RuLmJvb3RzdHJhcGNkbi5jb20vYm9vdHN0cmFwLzMuMi4wL2Nzcy9ib290c3RyYXAubWluLmNzcyIvPgogICAgPGxpbmsgcmVsPSJzdHlsZXNoZWV0IiBocmVmPSJodHRwczovL21heGNkbi5ib290c3RyYXBjZG4uY29tL2Jvb3RzdHJhcC8zLjIuMC9jc3MvYm9vdHN0cmFwLXRoZW1lLm1pbi5jc3MiLz4KICAgIDxsaW5rIHJlbD0ic3R5bGVzaGVldCIgaHJlZj0iaHR0cHM6Ly9tYXhjZG4uYm9vdHN0cmFwY2RuLmNvbS9mb250LWF3ZXNvbWUvNC42LjMvY3NzL2ZvbnQtYXdlc29tZS5taW4uY3NzIi8+CiAgICA8bGluayByZWw9InN0eWxlc2hlZXQiIGhyZWY9Imh0dHBzOi8vY2RuanMuY2xvdWRmbGFyZS5jb20vYWpheC9saWJzL0xlYWZsZXQuYXdlc29tZS1tYXJrZXJzLzIuMC4yL2xlYWZsZXQuYXdlc29tZS1tYXJrZXJzLmNzcyIvPgogICAgPGxpbmsgcmVsPSJzdHlsZXNoZWV0IiBocmVmPSJodHRwczovL3Jhd2Nkbi5naXRoYWNrLmNvbS9weXRob24tdmlzdWFsaXphdGlvbi9mb2xpdW0vbWFzdGVyL2ZvbGl1bS90ZW1wbGF0ZXMvbGVhZmxldC5hd2Vzb21lLnJvdGF0ZS5jc3MiLz4KICAgIDxzdHlsZT5odG1sLCBib2R5IHt3aWR0aDogMTAwJTtoZWlnaHQ6IDEwMCU7bWFyZ2luOiAwO3BhZGRpbmc6IDA7fTwvc3R5bGU+CiAgICA8c3R5bGU+I21hcCB7cG9zaXRpb246YWJzb2x1dGU7dG9wOjA7Ym90dG9tOjA7cmlnaHQ6MDtsZWZ0OjA7fTwvc3R5bGU+CiAgICAKICAgICAgICAgICAgPG1ldGEgbmFtZT0idmlld3BvcnQiIGNvbnRlbnQ9IndpZHRoPWRldmljZS13aWR0aCwKICAgICAgICAgICAgICAgIGluaXRpYWwtc2NhbGU9MS4wLCBtYXhpbXVtLXNjYWxlPTEuMCwgdXNlci1zY2FsYWJsZT1ubyIgLz4KICAgICAgICAgICAgPHN0eWxlPgogICAgICAgICAgICAgICAgI21hcF83MTg1MTgwYzZkZmE0MmZiOGNlNjFiODM2ZDkyYjQ0NiB7CiAgICAgICAgICAgICAgICAgICAgcG9zaXRpb246IHJlbGF0aXZlOwogICAgICAgICAgICAgICAgICAgIHdpZHRoOiAxMDAuMCU7CiAgICAgICAgICAgICAgICAgICAgaGVpZ2h0OiAxMDAuMCU7CiAgICAgICAgICAgICAgICAgICAgbGVmdDogMC4wJTsKICAgICAgICAgICAgICAgICAgICB0b3A6IDAuMCU7CiAgICAgICAgICAgICAgICB9CiAgICAgICAgICAgIDwvc3R5bGU+CiAgICAgICAgCjwvaGVhZD4KPGJvZHk+ICAgIAogICAgCiAgICAgICAgICAgIDxkaXYgY2xhc3M9ImZvbGl1bS1tYXAiIGlkPSJtYXBfNzE4NTE4MGM2ZGZhNDJmYjhjZTYxYjgzNmQ5MmI0NDYiID48L2Rpdj4KICAgICAgICAKPC9ib2R5Pgo8c2NyaXB0PiAgICAKICAgIAogICAgICAgICAgICB2YXIgbWFwXzcxODUxODBjNmRmYTQyZmI4Y2U2MWI4MzZkOTJiNDQ2ID0gTC5tYXAoCiAgICAgICAgICAgICAgICAibWFwXzcxODUxODBjNmRmYTQyZmI4Y2U2MWI4MzZkOTJiNDQ2IiwKICAgICAgICAgICAgICAgIHsKICAgICAgICAgICAgICAgICAgICBjZW50ZXI6IFsyOS42ODQ3ODEsIC05NS40MTA5NTZdLAogICAgICAgICAgICAgICAgICAgIGNyczogTC5DUlMuRVBTRzM4NTcsCiAgICAgICAgICAgICAgICAgICAgem9vbTogNCwKICAgICAgICAgICAgICAgICAgICB6b29tQ29udHJvbDogdHJ1ZSwKICAgICAgICAgICAgICAgICAgICBwcmVmZXJDYW52YXM6IGZhbHNlLAogICAgICAgICAgICAgICAgfQogICAgICAgICAgICApOwoKICAgICAgICAgICAgCgogICAgICAgIAogICAgCiAgICAgICAgICAgIHZhciB0aWxlX2xheWVyX2YzY2MxZmQyZTJjMjQyNzliYjMwNTI5MTM3MzkwMzgxID0gTC50aWxlTGF5ZXIoCiAgICAgICAgICAgICAgICAiaHR0cHM6Ly97c30udGlsZS5vcGVuc3RyZWV0bWFwLm9yZy97en0ve3h9L3t5fS5wbmciLAogICAgICAgICAgICAgICAgeyJhdHRyaWJ1dGlvbiI6ICJEYXRhIGJ5IFx1MDAyNmNvcHk7IFx1MDAzY2EgaHJlZj1cImh0dHA6Ly9vcGVuc3RyZWV0bWFwLm9yZ1wiXHUwMDNlT3BlblN0cmVldE1hcFx1MDAzYy9hXHUwMDNlLCB1bmRlciBcdTAwM2NhIGhyZWY9XCJodHRwOi8vd3d3Lm9wZW5zdHJlZXRtYXAub3JnL2NvcHlyaWdodFwiXHUwMDNlT0RiTFx1MDAzYy9hXHUwMDNlLiIsICJkZXRlY3RSZXRpbmEiOiBmYWxzZSwgIm1heE5hdGl2ZVpvb20iOiAxOCwgIm1heFpvb20iOiAxOCwgIm1pblpvb20iOiAwLCAibm9XcmFwIjogZmFsc2UsICJvcGFjaXR5IjogMSwgInN1YmRvbWFpbnMiOiAiYWJjIiwgInRtcyI6IGZhbHNlfQogICAgICAgICAgICApLmFkZFRvKG1hcF83MTg1MTgwYzZkZmE0MmZiOGNlNjFiODM2ZDkyYjQ0Nik7CiAgICAgICAgCjwvc2NyaXB0Pg== onload=\"this.contentDocument.open();this.contentDocument.write(atob(this.getAttribute('data-html')));this.contentDocument.close();\" allowfullscreen webkitallowfullscreen mozallowfullscreen></iframe></div></div>"
      ],
      "text/plain": [
       "<folium.folium.Map at 0x289dc352190>"
      ]
     },
     "execution_count": 46,
     "metadata": {},
     "output_type": "execute_result"
    }
   ],
   "source": [
    "map_stadiums = folium.Map(location = area_center, zoom_start = 4)\n",
    "map_stadiums"
   ]
  },
  {
   "cell_type": "code",
   "execution_count": 49,
   "metadata": {},
   "outputs": [
    {
     "data": {
      "text/html": [
       "<div style=\"width:100%;\"><div style=\"position:relative;width:100%;height:0;padding-bottom:60%;\"><span style=\"color:#565656\">Make this Notebook Trusted to load map: File -> Trust Notebook</span><iframe src=\"about:blank\" style=\"position:absolute;width:100%;height:100%;left:0;top:0;border:none !important;\" data-html=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 onload=\"this.contentDocument.open();this.contentDocument.write(atob(this.getAttribute('data-html')));this.contentDocument.close();\" allowfullscreen webkitallowfullscreen mozallowfullscreen></iframe></div></div>"
      ],
      "text/plain": [
       "<folium.folium.Map at 0x289dc3e9640>"
      ]
     },
     "execution_count": 49,
     "metadata": {},
     "output_type": "execute_result"
    }
   ],
   "source": [
    "map_stadiums = folium.Map(location = area_center, zoom_start = 3.5)\n",
    "\n",
    "folium.GeoJson(stadiums_geo).add_to(map_stadiums)\n",
    "\n",
    "for row_index, row_values in stadiums.iterrows():\n",
    "    loc = [row_values['latitude'], row_values['longitude']]\n",
    "    pop = str(row_values['Team'])\n",
    "    icon=folium.Icon(color=\"blue\",icon=\"home\", prefix='fa')\n",
    "    \n",
    "    marker = folium.Marker(\n",
    "        location = loc, \n",
    "        popup = pop, icon = icon) \n",
    "\n",
    "    marker.add_to(map_stadiums)\n",
    "map_stadiums.save('map_stadiums.html')\n",
    "\n",
    "map_stadiums"
   ]
  },
  {
   "cell_type": "code",
   "execution_count": null,
   "metadata": {},
   "outputs": [],
   "source": []
  }
 ],
 "metadata": {
  "kernelspec": {
   "display_name": "Python 3",
   "language": "python",
   "name": "python3"
  },
  "language_info": {
   "codemirror_mode": {
    "name": "ipython",
    "version": 3
   },
   "file_extension": ".py",
   "mimetype": "text/x-python",
   "name": "python",
   "nbconvert_exporter": "python",
   "pygments_lexer": "ipython3",
   "version": "3.8.5"
  }
 },
 "nbformat": 4,
 "nbformat_minor": 4
}
